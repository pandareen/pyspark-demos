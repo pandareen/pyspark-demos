{
 "cells": [
  {
   "cell_type": "code",
   "execution_count": 1,
   "id": "a3584502-76a2-4bde-8a36-583c2efde836",
   "metadata": {},
   "outputs": [],
   "source": [
    "from pyspark.sql import SparkSession\n",
    "from pyspark.sql import *\n",
    "from pyspark.sql.functions import *\n",
    "spark = SparkSession.builder\\\n",
    "                    .master(\"local\")\\\n",
    "                    .appName('Firstprogram')\\\n",
    "                    .getOrCreate()\n",
    "sc=spark.sparkContext"
   ]
  },
  {
   "cell_type": "code",
   "execution_count": 35,
   "id": "ab896338-01ac-4cae-8793-1d09285d6e9b",
   "metadata": {},
   "outputs": [],
   "source": [
    "text_file = sc.textFile(\"wikisent2.txt\")\n",
    "counts = text_file.flatMap(lambda line: line.split(\" \")) \\\n",
    "                            .map(lambda word: (word, 1))"
   ]
  },
  {
   "cell_type": "code",
   "execution_count": 36,
   "id": "8c99ca8e-dce4-4756-a0a0-f7b21582abd1",
   "metadata": {},
   "outputs": [
    {
     "name": "stdout",
     "output_type": "stream",
     "text": [
      "+-----------+-----+\n",
      "|       word|count|\n",
      "+-----------+-----+\n",
      "|  0.000123,|    1|\n",
      "|      which|    1|\n",
      "|corresponds|    1|\n",
      "|         to|    1|\n",
      "|          a|    1|\n",
      "+-----------+-----+\n",
      "only showing top 5 rows\n",
      "\n"
     ]
    }
   ],
   "source": [
    "wordcount_df = counts.toDF([\"word\", \"count\"])\n",
    "wordcount_df.show(5) # only show part of the dataframe\n"
   ]
  },
  {
   "cell_type": "code",
   "execution_count": 45,
   "id": "7645906e-0279-4a39-a4c4-22b5fcf53b9f",
   "metadata": {},
   "outputs": [
    {
     "name": "stdout",
     "output_type": "stream",
     "text": [
      "+----+-------+\n",
      "|word| counts|\n",
      "+----+-------+\n",
      "| the|8856585|\n",
      "|  of|5329711|\n",
      "|  in|4610327|\n",
      "| and|4503808|\n",
      "|   a|3757833|\n",
      "|  is|3339208|\n",
      "|  to|2216350|\n",
      "| The|1926053|\n",
      "| was|1925094|\n",
      "|  by|1381498|\n",
      "+----+-------+\n",
      "only showing top 10 rows\n",
      "\n"
     ]
    }
   ],
   "source": [
    "wordcount_df.groupBy(['word']).agg(sum(\"count\").alias('counts')).orderBy(desc('counts')).show(10)"
   ]
  },
  {
   "cell_type": "code",
   "execution_count": 31,
   "id": "b0c4daee-b6b7-4fc8-85ca-4f97c93771a3",
   "metadata": {},
   "outputs": [
    {
     "name": "stdout",
     "output_type": "stream",
     "text": [
      "+----------+\n",
      "|sum(count)|\n",
      "+----------+\n",
      "| 151523090|\n",
      "+----------+\n",
      "\n"
     ]
    }
   ],
   "source": [
    "wordcount_df.select(sum(col(\"count\"))).show(10)"
   ]
  },
  {
   "cell_type": "code",
   "execution_count": 27,
   "id": "8d470b0b-7641-46d5-a695-13f0c0342669",
   "metadata": {},
   "outputs": [
    {
     "name": "stdout",
     "output_type": "stream",
     "text": [
      "+----------+\n",
      "|max(count)|\n",
      "+----------+\n",
      "|   8856585|\n",
      "+----------+\n",
      "\n"
     ]
    }
   ],
   "source": [
    "wordcount_df.select(max(col(\"count\"))).show(10)"
   ]
  },
  {
   "cell_type": "code",
   "execution_count": null,
   "id": "0cc42744-979e-4765-b46d-489fa8369e77",
   "metadata": {},
   "outputs": [],
   "source": []
  }
 ],
 "metadata": {
  "kernelspec": {
   "display_name": "Python 3 (ipykernel)",
   "language": "python",
   "name": "python3"
  },
  "language_info": {
   "codemirror_mode": {
    "name": "ipython",
    "version": 3
   },
   "file_extension": ".py",
   "mimetype": "text/x-python",
   "name": "python",
   "nbconvert_exporter": "python",
   "pygments_lexer": "ipython3",
   "version": "3.11.3"
  }
 },
 "nbformat": 4,
 "nbformat_minor": 5
}
